{
  "nbformat": 4,
  "nbformat_minor": 0,
  "metadata": {
    "colab": {
      "name": "quick_sort.pynb",
      "provenance": [],
      "authorship_tag": "ABX9TyMd8/+HDaNL8vrwGeNQlE/S",
      "include_colab_link": true
    },
    "kernelspec": {
      "name": "python3",
      "display_name": "Python 3"
    }
  },
  "cells": [
    {
      "cell_type": "markdown",
      "metadata": {
        "id": "view-in-github",
        "colab_type": "text"
      },
      "source": [
        "<a href=\"https://colab.research.google.com/github/jenniferyennam/introduction-to-algorithms-assignment-1/blob/master/quick_sort.ipynb\" target=\"_parent\"><img src=\"https://colab.research.google.com/assets/colab-badge.svg\" alt=\"Open In Colab\"/></a>"
      ]
    },
    {
      "cell_type": "code",
      "metadata": {
        "id": "1fblVABiCVRR",
        "colab_type": "code",
        "colab": {}
      },
      "source": [
        "def quick_sort(arr):\n",
        "  quick_sort_helper(arr, 0, len(arr)-1)\n",
        "def quick_sort_helper(arr,first,last):\n",
        "  if first<last:\n",
        "    splitpoint = partiton(arr, splitpoint-1)\n",
        "    quick_sort_helper(arr, first, splitpoint-1)\n",
        "    quick_sort_helper(arr, splitpoint+1, last)\n",
        "def partition(arr,first,last):\n",
        "  pivot=arr[first]\n",
        "  left=first+1\n",
        "  right=last\n",
        "  done=False\n",
        "  while not done:\n",
        "    while left<=right and arr[left]>=pivot:\n",
        "      left=left+1\n",
        "    while arr[right]>=pivot and right>=left:\n",
        "      right=right-1\n",
        "    if right<left:\n",
        "      done=True\n",
        "    else:\n",
        "      temp=arr[left]\n",
        "      arr[left]=arr[right]\n",
        "      arr[right]=temp\n",
        "  temp=arr[first]\n",
        "  arr[first]=arr[right]\n",
        "  arr[right]=temp\n",
        "  return right\n",
        "\n"
      ],
      "execution_count": 10,
      "outputs": []
    }
  ]
}